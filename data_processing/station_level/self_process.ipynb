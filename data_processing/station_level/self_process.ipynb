{
 "cells": [
  {
   "cell_type": "code",
   "execution_count": 2,
   "source": [
    "import os\r\n",
    "import pandas as pd \r\n",
    "import numpy as np\r\n",
    "import datetime as d\r\n",
    "import calendar as c \r\n",
    "from datetime import timedelta\r\n",
    "\r\n",
    "\r\n",
    "def self_process(raw_dir, delta_incres, grid_lat, grid_lon):\r\n",
    "    files = os.listdir(raw_dir)\r\n",
    "    path_list = [(raw_dir + f) for f in files if f.endswith('.csv')]\r\n",
    "    for p in path_list:\r\n",
    "        data = pd.read_csv(p)\r\n",
    "        data['starttime'] = pd.to_datetime(data['starttime'], format='%Y-%m-%d %H:%M:%S')\r\n",
    "        data['stoptime'] = pd.to_datetime(data['stoptime'], format='%Y-%m-%d %H:%M:%S')\r\n",
    "\r\n",
    "        base_time = data.iloc[0,1]\r\n",
    "        day_num = c.monthrange(base_time.year, base_time.month)[1]\r\n",
    "        start_time = d.datetime(base_time.year, base_time.month, 1)\r\n",
    "\r\n",
    "        stations = list(pd.unique(pd.concat([data['start station id'], data['end station id']])))\r\n",
    "        stations.sort()\r\n",
    "\r\n",
    "        result_station = np.zeros([(1440 // delta_incres * day_num), len(stations), 2], dtype=int)\r\n",
    "\r\n",
    "        for i in range(data.shape[0]):\r\n",
    "            index_0 = (data.loc[i , 'starttime'] - start_time).seconds // (delta_incres * 60)\r\n",
    "            index_1 = stations.index(data.loc[i, 'start station id'])\r\n",
    "            result_station[index_0][index_1][0] += 1\r\n",
    "\r\n",
    "            index_0 = (data.loc[i , 'stoptime'] - start_time).seconds // (delta_incres * 60)\r\n",
    "            index_1 = stations.index(data.loc[i, 'end station id'])\r\n",
    "            result_station[index_0][index_1][1] += 1\r\n",
    "        np.save(('.\\\\processed_data\\\\{}{:02d}_station.npy'.format(base_time.year, base_time.month)), result_station)\r\n",
    "\r\n",
    "        latitude = pd.concat([data['start station latitude'], data['end station latitude']])\r\n",
    "        longitude = pd.concat([data['start station longitude'], data['end station longitude']])\r\n",
    "\r\n",
    "        min_lat = np.min(latitude)\r\n",
    "        max_lat = np.max(latitude)\r\n",
    "        sep_lat = (max_lat-min_lat) / grid_lat\r\n",
    "        min_lon = np.min(longitude)\r\n",
    "        max_lon = np.max(longitude)\r\n",
    "        sep_lon = (max_lon-min_lon) / grid_lon\r\n",
    "\r\n",
    "        for i in range(data.shape[0]):\r\n",
    "            data.loc[i, 'start grid'] = (data.loc[i, 'start station latitude']-min_lat)//sep_lat*latitude.shape[0] + (data.loc[i, 'start station longitude']-min_lon)//sep_lon\r\n",
    "            data.loc[i, 'end grid'] = (data.loc[i, 'end station latitude']-min_lat)//sep_lat*latitude.shape[0] + (data.loc[i, 'end station longitude']-min_lon)//sep_lon\r\n",
    "        \r\n",
    "        grids = list(np.unique(pd.concat([data['start grid'], data['end grid']])))\r\n",
    "        grid_map = {v:i for i, v in enumerate(grids)}\r\n",
    "\r\n",
    "        data['start grid'] = data['start grid'].apply(lambda x: grid_map[x])\r\n",
    "        data['end grid'] = data['end grid'].apply(lambda x: grid_map[x])\r\n",
    "\r\n",
    "        result_grid = np.zeros([(1440 // delta_incres * day_num), len(grids), 2], dtype=int)\r\n",
    "\r\n",
    "        for i in range(data.shape[0]):\r\n",
    "            index_0 = (data.loc[i , 'starttime'] - start_time).seconds // (delta_incres * 60)\r\n",
    "            index_1 = data.loc[i, 'start grid']\r\n",
    "            result_grid[index_0][index_1][0] += 1\r\n",
    "\r\n",
    "            index_0 = (data.loc[i , 'stoptime'] - start_time).seconds // (delta_incres * 60)\r\n",
    "            index_1 = data.loc[i, 'end grid']\r\n",
    "            result_grid[index_0][index_1][1] += 1\r\n",
    "        np.save(('.\\\\processed_data\\\\{}{:02d}_grid.npy'.format(base_time.year, base_time.month)), result_grid)\r\n",
    "\r\n",
    "self_process('.\\\\raw_data\\\\', 60, 16, 16)\r\n"
   ],
   "outputs": [
    {
     "output_type": "error",
     "ename": "KeyboardInterrupt",
     "evalue": "",
     "traceback": [
      "\u001b[1;31m---------------------------------------------------------------------------\u001b[0m",
      "\u001b[1;31mKeyboardInterrupt\u001b[0m                         Traceback (most recent call last)",
      "\u001b[1;32m~\\AppData\\Local\\Temp/ipykernel_22832/4124761752.py\u001b[0m in \u001b[0;36m<module>\u001b[1;34m\u001b[0m\n\u001b[0;32m     66\u001b[0m         \u001b[0mnp\u001b[0m\u001b[1;33m.\u001b[0m\u001b[0msave\u001b[0m\u001b[1;33m(\u001b[0m\u001b[1;33m(\u001b[0m\u001b[1;34m'.\\\\processed_data\\\\{}{:02d}_grid.npy'\u001b[0m\u001b[1;33m.\u001b[0m\u001b[0mformat\u001b[0m\u001b[1;33m(\u001b[0m\u001b[0mbase_time\u001b[0m\u001b[1;33m.\u001b[0m\u001b[0myear\u001b[0m\u001b[1;33m,\u001b[0m \u001b[0mbase_time\u001b[0m\u001b[1;33m.\u001b[0m\u001b[0mmonth\u001b[0m\u001b[1;33m)\u001b[0m\u001b[1;33m)\u001b[0m\u001b[1;33m,\u001b[0m \u001b[0mresult_grid\u001b[0m\u001b[1;33m)\u001b[0m\u001b[1;33m\u001b[0m\u001b[1;33m\u001b[0m\u001b[0m\n\u001b[0;32m     67\u001b[0m \u001b[1;33m\u001b[0m\u001b[0m\n\u001b[1;32m---> 68\u001b[1;33m \u001b[0mself_process\u001b[0m\u001b[1;33m(\u001b[0m\u001b[1;34m'.\\\\raw_data\\\\'\u001b[0m\u001b[1;33m,\u001b[0m \u001b[1;36m60\u001b[0m\u001b[1;33m,\u001b[0m \u001b[1;36m16\u001b[0m\u001b[1;33m,\u001b[0m \u001b[1;36m16\u001b[0m\u001b[1;33m)\u001b[0m\u001b[1;33m\u001b[0m\u001b[1;33m\u001b[0m\u001b[0m\n\u001b[0m",
      "\u001b[1;32m~\\AppData\\Local\\Temp/ipykernel_22832/4124761752.py\u001b[0m in \u001b[0;36mself_process\u001b[1;34m(raw_dir, delta_incres, grid_lat, grid_lon)\u001b[0m\n\u001b[0;32m     61\u001b[0m             \u001b[0mresult_grid\u001b[0m\u001b[1;33m[\u001b[0m\u001b[0mindex_0\u001b[0m\u001b[1;33m]\u001b[0m\u001b[1;33m[\u001b[0m\u001b[0mindex_1\u001b[0m\u001b[1;33m]\u001b[0m\u001b[1;33m[\u001b[0m\u001b[1;36m0\u001b[0m\u001b[1;33m]\u001b[0m \u001b[1;33m+=\u001b[0m \u001b[1;36m1\u001b[0m\u001b[1;33m\u001b[0m\u001b[1;33m\u001b[0m\u001b[0m\n\u001b[0;32m     62\u001b[0m \u001b[1;33m\u001b[0m\u001b[0m\n\u001b[1;32m---> 63\u001b[1;33m             \u001b[0mindex_0\u001b[0m \u001b[1;33m=\u001b[0m \u001b[1;33m(\u001b[0m\u001b[0mdata\u001b[0m\u001b[1;33m.\u001b[0m\u001b[0mloc\u001b[0m\u001b[1;33m[\u001b[0m\u001b[0mi\u001b[0m \u001b[1;33m,\u001b[0m \u001b[1;34m'stoptime'\u001b[0m\u001b[1;33m]\u001b[0m \u001b[1;33m-\u001b[0m \u001b[0mstart_time\u001b[0m\u001b[1;33m)\u001b[0m\u001b[1;33m.\u001b[0m\u001b[0mseconds\u001b[0m \u001b[1;33m//\u001b[0m \u001b[1;33m(\u001b[0m\u001b[0mdelta_incres\u001b[0m \u001b[1;33m*\u001b[0m \u001b[1;36m60\u001b[0m\u001b[1;33m)\u001b[0m\u001b[1;33m\u001b[0m\u001b[1;33m\u001b[0m\u001b[0m\n\u001b[0m\u001b[0;32m     64\u001b[0m             \u001b[0mindex_1\u001b[0m \u001b[1;33m=\u001b[0m \u001b[0mdata\u001b[0m\u001b[1;33m.\u001b[0m\u001b[0mloc\u001b[0m\u001b[1;33m[\u001b[0m\u001b[0mi\u001b[0m\u001b[1;33m,\u001b[0m \u001b[1;34m'end grid'\u001b[0m\u001b[1;33m]\u001b[0m\u001b[1;33m\u001b[0m\u001b[1;33m\u001b[0m\u001b[0m\n\u001b[0;32m     65\u001b[0m             \u001b[0mresult_grid\u001b[0m\u001b[1;33m[\u001b[0m\u001b[0mindex_0\u001b[0m\u001b[1;33m]\u001b[0m\u001b[1;33m[\u001b[0m\u001b[0mindex_1\u001b[0m\u001b[1;33m]\u001b[0m\u001b[1;33m[\u001b[0m\u001b[1;36m1\u001b[0m\u001b[1;33m]\u001b[0m \u001b[1;33m+=\u001b[0m \u001b[1;36m1\u001b[0m\u001b[1;33m\u001b[0m\u001b[1;33m\u001b[0m\u001b[0m\n",
      "\u001b[1;32mD:\\Languages\\Anaconda\\lib\\site-packages\\pandas\\core\\indexing.py\u001b[0m in \u001b[0;36m__getitem__\u001b[1;34m(self, key)\u001b[0m\n\u001b[0;32m    920\u001b[0m             \u001b[0mkey\u001b[0m \u001b[1;33m=\u001b[0m \u001b[0mtuple\u001b[0m\u001b[1;33m(\u001b[0m\u001b[0mlist\u001b[0m\u001b[1;33m(\u001b[0m\u001b[0mx\u001b[0m\u001b[1;33m)\u001b[0m \u001b[1;32mif\u001b[0m \u001b[0mis_iterator\u001b[0m\u001b[1;33m(\u001b[0m\u001b[0mx\u001b[0m\u001b[1;33m)\u001b[0m \u001b[1;32melse\u001b[0m \u001b[0mx\u001b[0m \u001b[1;32mfor\u001b[0m \u001b[0mx\u001b[0m \u001b[1;32min\u001b[0m \u001b[0mkey\u001b[0m\u001b[1;33m)\u001b[0m\u001b[1;33m\u001b[0m\u001b[1;33m\u001b[0m\u001b[0m\n\u001b[0;32m    921\u001b[0m             \u001b[0mkey\u001b[0m \u001b[1;33m=\u001b[0m \u001b[0mtuple\u001b[0m\u001b[1;33m(\u001b[0m\u001b[0mcom\u001b[0m\u001b[1;33m.\u001b[0m\u001b[0mapply_if_callable\u001b[0m\u001b[1;33m(\u001b[0m\u001b[0mx\u001b[0m\u001b[1;33m,\u001b[0m \u001b[0mself\u001b[0m\u001b[1;33m.\u001b[0m\u001b[0mobj\u001b[0m\u001b[1;33m)\u001b[0m \u001b[1;32mfor\u001b[0m \u001b[0mx\u001b[0m \u001b[1;32min\u001b[0m \u001b[0mkey\u001b[0m\u001b[1;33m)\u001b[0m\u001b[1;33m\u001b[0m\u001b[1;33m\u001b[0m\u001b[0m\n\u001b[1;32m--> 922\u001b[1;33m             \u001b[1;32mif\u001b[0m \u001b[0mself\u001b[0m\u001b[1;33m.\u001b[0m\u001b[0m_is_scalar_access\u001b[0m\u001b[1;33m(\u001b[0m\u001b[0mkey\u001b[0m\u001b[1;33m)\u001b[0m\u001b[1;33m:\u001b[0m\u001b[1;33m\u001b[0m\u001b[1;33m\u001b[0m\u001b[0m\n\u001b[0m\u001b[0;32m    923\u001b[0m                 \u001b[1;32mwith\u001b[0m \u001b[0msuppress\u001b[0m\u001b[1;33m(\u001b[0m\u001b[0mKeyError\u001b[0m\u001b[1;33m,\u001b[0m \u001b[0mIndexError\u001b[0m\u001b[1;33m)\u001b[0m\u001b[1;33m:\u001b[0m\u001b[1;33m\u001b[0m\u001b[1;33m\u001b[0m\u001b[0m\n\u001b[0;32m    924\u001b[0m                     \u001b[1;32mreturn\u001b[0m \u001b[0mself\u001b[0m\u001b[1;33m.\u001b[0m\u001b[0mobj\u001b[0m\u001b[1;33m.\u001b[0m\u001b[0m_get_value\u001b[0m\u001b[1;33m(\u001b[0m\u001b[1;33m*\u001b[0m\u001b[0mkey\u001b[0m\u001b[1;33m,\u001b[0m \u001b[0mtakeable\u001b[0m\u001b[1;33m=\u001b[0m\u001b[0mself\u001b[0m\u001b[1;33m.\u001b[0m\u001b[0m_takeable\u001b[0m\u001b[1;33m)\u001b[0m\u001b[1;33m\u001b[0m\u001b[1;33m\u001b[0m\u001b[0m\n",
      "\u001b[1;32mD:\\Languages\\Anaconda\\lib\\site-packages\\pandas\\core\\indexing.py\u001b[0m in \u001b[0;36m_is_scalar_access\u001b[1;34m(self, key)\u001b[0m\n\u001b[0;32m    999\u001b[0m                 \u001b[1;32mreturn\u001b[0m \u001b[1;32mFalse\u001b[0m\u001b[1;33m\u001b[0m\u001b[1;33m\u001b[0m\u001b[0m\n\u001b[0;32m   1000\u001b[0m \u001b[1;33m\u001b[0m\u001b[0m\n\u001b[1;32m-> 1001\u001b[1;33m             \u001b[0max\u001b[0m \u001b[1;33m=\u001b[0m \u001b[0mself\u001b[0m\u001b[1;33m.\u001b[0m\u001b[0mobj\u001b[0m\u001b[1;33m.\u001b[0m\u001b[0maxes\u001b[0m\u001b[1;33m[\u001b[0m\u001b[0mi\u001b[0m\u001b[1;33m]\u001b[0m\u001b[1;33m\u001b[0m\u001b[1;33m\u001b[0m\u001b[0m\n\u001b[0m\u001b[0;32m   1002\u001b[0m             \u001b[1;32mif\u001b[0m \u001b[0misinstance\u001b[0m\u001b[1;33m(\u001b[0m\u001b[0max\u001b[0m\u001b[1;33m,\u001b[0m \u001b[0mMultiIndex\u001b[0m\u001b[1;33m)\u001b[0m\u001b[1;33m:\u001b[0m\u001b[1;33m\u001b[0m\u001b[1;33m\u001b[0m\u001b[0m\n\u001b[0;32m   1003\u001b[0m                 \u001b[1;32mreturn\u001b[0m \u001b[1;32mFalse\u001b[0m\u001b[1;33m\u001b[0m\u001b[1;33m\u001b[0m\u001b[0m\n",
      "\u001b[1;32mD:\\Languages\\Anaconda\\lib\\site-packages\\pandas\\core\\frame.py\u001b[0m in \u001b[0;36maxes\u001b[1;34m(self)\u001b[0m\n\u001b[0;32m    793\u001b[0m         dtype='object')]\n\u001b[0;32m    794\u001b[0m         \"\"\"\n\u001b[1;32m--> 795\u001b[1;33m         \u001b[1;32mreturn\u001b[0m \u001b[1;33m[\u001b[0m\u001b[0mself\u001b[0m\u001b[1;33m.\u001b[0m\u001b[0mindex\u001b[0m\u001b[1;33m,\u001b[0m \u001b[0mself\u001b[0m\u001b[1;33m.\u001b[0m\u001b[0mcolumns\u001b[0m\u001b[1;33m]\u001b[0m\u001b[1;33m\u001b[0m\u001b[1;33m\u001b[0m\u001b[0m\n\u001b[0m\u001b[0;32m    796\u001b[0m \u001b[1;33m\u001b[0m\u001b[0m\n\u001b[0;32m    797\u001b[0m     \u001b[1;33m@\u001b[0m\u001b[0mproperty\u001b[0m\u001b[1;33m\u001b[0m\u001b[1;33m\u001b[0m\u001b[0m\n",
      "\u001b[1;31mKeyboardInterrupt\u001b[0m: "
     ]
    }
   ],
   "metadata": {}
  },
  {
   "cell_type": "code",
   "execution_count": 5,
   "source": [
    "self_process('.\\\\raw_data\\\\', 60, 16, 16)"
   ],
   "outputs": [],
   "metadata": {}
  }
 ],
 "metadata": {
  "orig_nbformat": 4,
  "language_info": {
   "name": "python",
   "version": "3.8.8",
   "mimetype": "text/x-python",
   "codemirror_mode": {
    "name": "ipython",
    "version": 3
   },
   "pygments_lexer": "ipython3",
   "nbconvert_exporter": "python",
   "file_extension": ".py"
  },
  "kernelspec": {
   "name": "python3",
   "display_name": "Python 3.8.8 64-bit ('base': conda)"
  },
  "interpreter": {
   "hash": "ed5b42952a740bfb2ba1b42c5da04896efe895647875feb216bef031b41c8d85"
  }
 },
 "nbformat": 4,
 "nbformat_minor": 2
}