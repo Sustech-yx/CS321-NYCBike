{
 "cells": [
  {
   "cell_type": "code",
   "execution_count": 7,
   "source": [
    "import os\r\n",
    "import pandas as pd \r\n",
    "import numpy as np\r\n",
    "import datetime as d\r\n",
    "import calendar as c \r\n",
    "from datetime import timedelta\r\n",
    "\r\n",
    "\r\n",
    "def self_process(raw_dir, delta_incres, grid_lat, grid_lon):\r\n",
    "    files = os.listdir(raw_dir)\r\n",
    "    path_list = [(raw_dir + f) for f in files if f.endswith('.csv')]\r\n",
    "    for p in path_list:\r\n",
    "        data = pd.read_csv(p)\r\n",
    "        data['starttime'] = pd.to_datetime(data['starttime'], format='%Y-%m-%d %H:%M:%S')\r\n",
    "        data['stoptime'] = pd.to_datetime(data['stoptime'], format='%Y-%m-%d %H:%M:%S')\r\n",
    "\r\n",
    "        base_time = data.iloc[0,1]\r\n",
    "        day_num = c.monthrange(base_time.year, base_time.month)[1]\r\n",
    "        start_time = d.datetime(base_time.year, base_time.month, 1)\r\n",
    "        end_time = d.datetime(base_time.year, base_time.month, day_num, 23, 59, 59)\r\n",
    "\r\n",
    "        stations = list(pd.unique(pd.concat([data['start station id'], data['end station id']])))\r\n",
    "\r\n",
    "        result_station = np.zeros([(1440 // delta_incres * day_num), len(stations), 2], dtype=int)\r\n",
    "\r\n",
    "        for i in range(data.shape[0]):\r\n",
    "            index_0 = (data.loc[i , 'starttime'] - start_time).seconds // (delta_incres * 60)\r\n",
    "            index_1 = stations.index(data.loc[i, 'start station id'])\r\n",
    "            result_station[index_0][index_1][0] += 1\r\n",
    "\r\n",
    "            index_0 = (data.loc[i , 'stoptime'] - start_time).seconds // (delta_incres * 60)\r\n",
    "            index_1 = stations.index(data.loc[i, 'end station id'])\r\n",
    "            result_station[index_0][index_1][1] += 1\r\n",
    "        np.save(('.\\\\processed_data\\\\{}{:02d}_station.npy'.format(base_time.year, base_time.month)), result_station)\r\n",
    "\r\n",
    "        latitude = pd.concat([data['start station latitude'], data['end station latitude']])\r\n",
    "        longitude = pd.concat([data['start station longitude'], data['end station longitude']])\r\n",
    "\r\n",
    "        min_lat = np.min(latitude)\r\n",
    "        max_lat = np.max(latitude)\r\n",
    "        sep_lat = (max_lat-min_lat) / grid_lat\r\n",
    "        min_lon = np.min(longitude)\r\n",
    "        max_lon = np.max(longitude)\r\n",
    "        sep_lon = (max_lon-min_lon) / grid_lon\r\n",
    "\r\n",
    "        for i in range(data.shape[0]):\r\n",
    "            data.loc[i, 'start grid'] = (data.loc[i, 'start station latitude']-min_lat)//sep_lat*latitude.shape[0] + (data.loc[i, 'start station longitude']-min_lon)//sep_lon\r\n",
    "            data.loc[i, 'end grid'] = (data.loc[i, 'end station latitude']-min_lat)//sep_lat*latitude.shape[0] + (data.loc[i, 'end station longitude']-min_lon)//sep_lon\r\n",
    "        \r\n",
    "        grids = list(np.unique(pd.concat([data['start grid'], data['end grid']])))\r\n",
    "        grid_map = {v:i for i, v in enumerate(grids)}\r\n",
    "\r\n",
    "        data['start grid'] = data['start grid'].apply(lambda x: grid_map[x])\r\n",
    "        data['end grid'] = data['end grid'].apply(lambda x: grid_map[x])\r\n",
    "\r\n",
    "        result_grid = np.zeros([(1440 // delta_incres * day_num), len(grids), 2], dtype=int)\r\n",
    "\r\n",
    "        for i in range(data.shape[0]):\r\n",
    "            index_0 = (data.loc[i , 'starttime'] - start_time).seconds // (delta_incres * 60)\r\n",
    "            index_1 = data.loc[i, 'start grid']\r\n",
    "            result_grid[index_0][index_1][0] += 1\r\n",
    "\r\n",
    "            index_0 = (data.loc[i , 'stoptime'] - start_time).seconds // (delta_incres * 60)\r\n",
    "            index_1 = data.loc[i, 'end grid']\r\n",
    "            result_grid[index_0][index_1][1] += 1\r\n",
    "        np.save(('.\\\\processed_data\\\\{}{:02d}_grid.npy'.format(base_time.year, base_time.month)), result_grid)\r\n"
   ],
   "outputs": [],
   "metadata": {}
  },
  {
   "cell_type": "code",
   "execution_count": 9,
   "source": [
    "self_process('.\\\\raw_data\\\\', 60, 16, 16)"
   ],
   "outputs": [],
   "metadata": {}
  }
 ],
 "metadata": {
  "orig_nbformat": 4,
  "language_info": {
   "name": "python",
   "version": "3.8.8",
   "mimetype": "text/x-python",
   "codemirror_mode": {
    "name": "ipython",
    "version": 3
   },
   "pygments_lexer": "ipython3",
   "nbconvert_exporter": "python",
   "file_extension": ".py"
  },
  "kernelspec": {
   "name": "python3",
   "display_name": "Python 3.8.8 64-bit ('base': conda)"
  },
  "interpreter": {
   "hash": "ed5b42952a740bfb2ba1b42c5da04896efe895647875feb216bef031b41c8d85"
  }
 },
 "nbformat": 4,
 "nbformat_minor": 2
}